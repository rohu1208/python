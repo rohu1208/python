{
 "cells": [
  {
   "cell_type": "code",
   "execution_count": 1,
   "id": "62738578",
   "metadata": {},
   "outputs": [
    {
     "name": "stdout",
     "output_type": "stream",
     "text": [
      "This is Spartup\n"
     ]
    }
   ],
   "source": [
    "print(\"This is Spartup\")"
   ]
  },
  {
   "cell_type": "code",
   "execution_count": 2,
   "id": "f4471e03",
   "metadata": {},
   "outputs": [],
   "source": [
    "student =\"Bob\""
   ]
  },
  {
   "cell_type": "code",
   "execution_count": 3,
   "id": "e4bebbfe",
   "metadata": {},
   "outputs": [
    {
     "data": {
      "text/plain": [
       "'Bob'"
      ]
     },
     "execution_count": 3,
     "metadata": {},
     "output_type": "execute_result"
    }
   ],
   "source": [
    "student\n"
   ]
  },
  {
   "cell_type": "code",
   "execution_count": 4,
   "id": "3e0f3cf8",
   "metadata": {},
   "outputs": [],
   "source": [
    "a1 =10"
   ]
  },
  {
   "cell_type": "code",
   "execution_count": 5,
   "id": "78146524",
   "metadata": {},
   "outputs": [
    {
     "data": {
      "text/plain": [
       "10"
      ]
     },
     "execution_count": 5,
     "metadata": {},
     "output_type": "execute_result"
    }
   ],
   "source": [
    "a1"
   ]
  },
  {
   "cell_type": "code",
   "execution_count": 6,
   "id": "c0096818",
   "metadata": {},
   "outputs": [
    {
     "data": {
      "text/plain": [
       "int"
      ]
     },
     "execution_count": 6,
     "metadata": {},
     "output_type": "execute_result"
    }
   ],
   "source": [
    "type(a1)"
   ]
  },
  {
   "cell_type": "code",
   "execution_count": 7,
   "id": "caaec56d",
   "metadata": {},
   "outputs": [
    {
     "data": {
      "text/plain": [
       "float"
      ]
     },
     "execution_count": 7,
     "metadata": {},
     "output_type": "execute_result"
    }
   ],
   "source": [
    "a1=2.21\n",
    "type(a1)"
   ]
  },
  {
   "cell_type": "code",
   "execution_count": 8,
   "id": "d136f694",
   "metadata": {},
   "outputs": [
    {
     "data": {
      "text/plain": [
       "'M'"
      ]
     },
     "execution_count": 8,
     "metadata": {},
     "output_type": "execute_result"
    }
   ],
   "source": [
    "my_string=\"My name is ROHAN\"\n",
    "my_string[0]"
   ]
  },
  {
   "cell_type": "code",
   "execution_count": 9,
   "id": "ee012e04",
   "metadata": {},
   "outputs": [
    {
     "data": {
      "text/plain": [
       "'N'"
      ]
     },
     "execution_count": 9,
     "metadata": {},
     "output_type": "execute_result"
    }
   ],
   "source": [
    "my_string[-1]"
   ]
  },
  {
   "cell_type": "code",
   "execution_count": 10,
   "id": "1156fb48",
   "metadata": {},
   "outputs": [
    {
     "data": {
      "text/plain": [
       "16"
      ]
     },
     "execution_count": 10,
     "metadata": {},
     "output_type": "execute_result"
    }
   ],
   "source": [
    "len(my_string)"
   ]
  },
  {
   "cell_type": "code",
   "execution_count": 11,
   "id": "6abe1658",
   "metadata": {},
   "outputs": [
    {
     "data": {
      "text/plain": [
       "'MY NAME IS ROHAN'"
      ]
     },
     "execution_count": 11,
     "metadata": {},
     "output_type": "execute_result"
    }
   ],
   "source": [
    "my_string.upper()"
   ]
  },
  {
   "cell_type": "code",
   "execution_count": 12,
   "id": "fe7765cc",
   "metadata": {},
   "outputs": [
    {
     "data": {
      "text/plain": [
       "'Ma name is ROHAN'"
      ]
     },
     "execution_count": 12,
     "metadata": {},
     "output_type": "execute_result"
    }
   ],
   "source": [
    "my_string.replace('y','a')"
   ]
  },
  {
   "cell_type": "code",
   "execution_count": 13,
   "id": "ba64b33d",
   "metadata": {},
   "outputs": [
    {
     "data": {
      "text/plain": [
       "'My name iss ROHAN'"
      ]
     },
     "execution_count": 13,
     "metadata": {},
     "output_type": "execute_result"
    }
   ],
   "source": [
    "my_string.replace(\"is\",\"iss\")"
   ]
  },
  {
   "cell_type": "code",
   "execution_count": 14,
   "id": "3927d2c3",
   "metadata": {},
   "outputs": [
    {
     "data": {
      "text/plain": [
       "['I like apples', 'mangoes', 'gauva']"
      ]
     },
     "execution_count": 14,
     "metadata": {},
     "output_type": "execute_result"
    }
   ],
   "source": [
    "fruit='I like apples,mangoes,gauva'\n",
    "fruit.split(',')"
   ]
  },
  {
   "cell_type": "markdown",
   "id": "a07a7455",
   "metadata": {},
   "source": [
    "BASIC DATASTRUCTURES"
   ]
  },
  {
   "cell_type": "code",
   "execution_count": 15,
   "id": "e2f3ba1a",
   "metadata": {},
   "outputs": [
    {
     "data": {
      "text/plain": [
       "'Tuples is an ordered collection of elements enclosed within ()'"
      ]
     },
     "execution_count": 15,
     "metadata": {},
     "output_type": "execute_result"
    }
   ],
   "source": [
    "'''Tuples is an ordered collection of elements enclosed within ()'''"
   ]
  },
  {
   "cell_type": "code",
   "execution_count": 16,
   "id": "33759cbf",
   "metadata": {},
   "outputs": [
    {
     "data": {
      "text/plain": [
       "'Hetrogenous and inmuttable'"
      ]
     },
     "execution_count": 16,
     "metadata": {},
     "output_type": "execute_result"
    }
   ],
   "source": [
    "\"Hetrogenous and inmuttable\""
   ]
  },
  {
   "cell_type": "code",
   "execution_count": 17,
   "id": "d252f5be",
   "metadata": {},
   "outputs": [
    {
     "data": {
      "text/plain": [
       "tuple"
      ]
     },
     "execution_count": 17,
     "metadata": {},
     "output_type": "execute_result"
    }
   ],
   "source": [
    "tupl=(1,True,3)\n",
    "type(tupl)"
   ]
  },
  {
   "cell_type": "code",
   "execution_count": 18,
   "id": "9c8a0373",
   "metadata": {},
   "outputs": [
    {
     "data": {
      "text/plain": [
       "3"
      ]
     },
     "execution_count": 18,
     "metadata": {},
     "output_type": "execute_result"
    }
   ],
   "source": [
    "tupl[-1]"
   ]
  },
  {
   "cell_type": "code",
   "execution_count": 19,
   "id": "491c1576",
   "metadata": {},
   "outputs": [
    {
     "data": {
      "text/plain": [
       "(1, True)"
      ]
     },
     "execution_count": 19,
     "metadata": {},
     "output_type": "execute_result"
    }
   ],
   "source": [
    "tupl[0:2]"
   ]
  },
  {
   "cell_type": "code",
   "execution_count": 20,
   "id": "7d00a496",
   "metadata": {},
   "outputs": [
    {
     "data": {
      "text/plain": [
       "(1,)"
      ]
     },
     "execution_count": 20,
     "metadata": {},
     "output_type": "execute_result"
    }
   ],
   "source": [
    "tupl[0:1]"
   ]
  },
  {
   "cell_type": "code",
   "execution_count": 21,
   "id": "80cf495b",
   "metadata": {},
   "outputs": [
    {
     "ename": "SyntaxError",
     "evalue": "invalid syntax (3141049902.py, line 1)",
     "output_type": "error",
     "traceback": [
      "\u001b[1;36m  Cell \u001b[1;32mIn[21], line 1\u001b[1;36m\u001b[0m\n\u001b[1;33m    tupl[0]=1 // not possible\u001b[0m\n\u001b[1;37m                 ^\u001b[0m\n\u001b[1;31mSyntaxError\u001b[0m\u001b[1;31m:\u001b[0m invalid syntax\n"
     ]
    }
   ],
   "source": [
    "tupl[0]=1 // not possible"
   ]
  },
  {
   "cell_type": "code",
   "execution_count": null,
   "id": "17fec99b",
   "metadata": {},
   "outputs": [],
   "source": [
    "tup1=(1,2,3)"
   ]
  },
  {
   "cell_type": "code",
   "execution_count": null,
   "id": "ca085d33",
   "metadata": {},
   "outputs": [],
   "source": [
    "tup2=(3,4,5)\n",
    "tup1+tup2"
   ]
  },
  {
   "cell_type": "code",
   "execution_count": null,
   "id": "0e45d5f1",
   "metadata": {},
   "outputs": [],
   "source": [
    "tup2+tup1"
   ]
  },
  {
   "cell_type": "code",
   "execution_count": null,
   "id": "f4b34918",
   "metadata": {},
   "outputs": [],
   "source": [
    "tup2*3"
   ]
  },
  {
   "cell_type": "code",
   "execution_count": null,
   "id": "f066db0e",
   "metadata": {},
   "outputs": [],
   "source": [
    "min(tup1)"
   ]
  },
  {
   "cell_type": "code",
   "execution_count": null,
   "id": "ff3ff151",
   "metadata": {},
   "outputs": [],
   "source": [
    "max(tup2)"
   ]
  },
  {
   "cell_type": "code",
   "execution_count": null,
   "id": "113c6948",
   "metadata": {},
   "outputs": [],
   "source": [
    "l1=[1,4,5,2]\n",
    "l1.reverse()\n",
    "l1.sort()"
   ]
  },
  {
   "cell_type": "code",
   "execution_count": null,
   "id": "e0e524e3",
   "metadata": {},
   "outputs": [],
   "source": [
    "l1\n"
   ]
  },
  {
   "cell_type": "code",
   "execution_count": null,
   "id": "ca431ef9",
   "metadata": {},
   "outputs": [],
   "source": [
    "l1.insert(2,\"hi\")"
   ]
  },
  {
   "cell_type": "code",
   "execution_count": null,
   "id": "039ad532",
   "metadata": {},
   "outputs": [],
   "source": [
    "l1"
   ]
  },
  {
   "cell_type": "code",
   "execution_count": null,
   "id": "13e6097b",
   "metadata": {},
   "outputs": [],
   "source": [
    "l1*3"
   ]
  },
  {
   "cell_type": "code",
   "execution_count": null,
   "id": "0ecc1cbf",
   "metadata": {},
   "outputs": [],
   "source": []
  },
  {
   "cell_type": "markdown",
   "id": "3b16e838",
   "metadata": {},
   "source": [
    "# Dictionary "
   ]
  },
  {
   "cell_type": "code",
   "execution_count": null,
   "id": "1bfafe53",
   "metadata": {},
   "outputs": [],
   "source": [
    "// dict is mutable Key value pair"
   ]
  },
  {
   "cell_type": "code",
   "execution_count": null,
   "id": "384207bf",
   "metadata": {},
   "outputs": [],
   "source": [
    "Fruits={\"apples\":10,\"oranges\":20,\"guava\":15}\n",
    "Fruits.keys()"
   ]
  },
  {
   "cell_type": "code",
   "execution_count": null,
   "id": "caf1f496",
   "metadata": {},
   "outputs": [],
   "source": [
    "Fruits.values()"
   ]
  },
  {
   "cell_type": "code",
   "execution_count": null,
   "id": "aeab99f0",
   "metadata": {},
   "outputs": [],
   "source": [
    "Fruits[\"Mangoes\"]=50\n",
    "Fruits"
   ]
  },
  {
   "cell_type": "code",
   "execution_count": null,
   "id": "5582274d",
   "metadata": {},
   "outputs": [],
   "source": [
    "Fruits[\"apples\"]=14"
   ]
  },
  {
   "cell_type": "code",
   "execution_count": null,
   "id": "532b9b40",
   "metadata": {},
   "outputs": [],
   "source": [
    "Fruits"
   ]
  },
  {
   "cell_type": "code",
   "execution_count": null,
   "id": "7589a426",
   "metadata": {},
   "outputs": [],
   "source": [
    "Fruit2={\"papaya\":23,\"watermelon\":23}\n",
    "Fruit2.update(Fruits)"
   ]
  },
  {
   "cell_type": "code",
   "execution_count": null,
   "id": "d8d39f55",
   "metadata": {},
   "outputs": [],
   "source": [
    "Fruit2"
   ]
  },
  {
   "cell_type": "markdown",
   "id": "ff321f31",
   "metadata": {},
   "source": [
    "# Set - no duplication"
   ]
  },
  {
   "cell_type": "code",
   "execution_count": null,
   "id": "cac0d0dc",
   "metadata": {},
   "outputs": [],
   "source": [
    "s1={1,4,3,\"sparta\",4}\n",
    "s1"
   ]
  },
  {
   "cell_type": "code",
   "execution_count": null,
   "id": "14163912",
   "metadata": {},
   "outputs": [],
   "source": [
    "s1.add(\"Hello\")"
   ]
  },
  {
   "cell_type": "code",
   "execution_count": null,
   "id": "d64e3650",
   "metadata": {},
   "outputs": [],
   "source": [
    "s1  "
   ]
  },
  {
   "cell_type": "code",
   "execution_count": null,
   "id": "57ac34dc",
   "metadata": {},
   "outputs": [],
   "source": [
    "s1.update(['Hello',79823,5+7j])"
   ]
  },
  {
   "cell_type": "code",
   "execution_count": null,
   "id": "2ef63673",
   "metadata": {},
   "outputs": [],
   "source": [
    "s1"
   ]
  },
  {
   "cell_type": "code",
   "execution_count": null,
   "id": "58b1ae83",
   "metadata": {},
   "outputs": [],
   "source": [
    "s1\n"
   ]
  },
  {
   "cell_type": "markdown",
   "id": "3b8bcac7",
   "metadata": {},
   "source": [
    "s1\n"
   ]
  },
  {
   "cell_type": "code",
   "execution_count": null,
   "id": "f27108da",
   "metadata": {},
   "outputs": [],
   "source": [
    "s2={1,2,3,4}\n",
    "s1.union(s2)"
   ]
  },
  {
   "cell_type": "code",
   "execution_count": null,
   "id": "02dd41ed",
   "metadata": {},
   "outputs": [],
   "source": [
    "s1.intersection(s2)"
   ]
  },
  {
   "cell_type": "code",
   "execution_count": null,
   "id": "28069c5a",
   "metadata": {},
   "outputs": [],
   "source": [
    "a=30\n",
    "b=20\n",
    "if (b>a):\n",
    "    print(\"b is greater\")\n",
    "else:\n",
    "    print(\"NA RE BHAIII\")"
   ]
  },
  {
   "cell_type": "markdown",
   "id": "c761b36a",
   "metadata": {},
   "source": [
    "LOOPING STATEMENTS"
   ]
  },
  {
   "cell_type": "code",
   "execution_count": null,
   "id": "ae96d376",
   "metadata": {},
   "outputs": [],
   "source": [
    "i=1\n",
    "while i<10:\n",
    "    print(i)\n",
    "    i=i+1"
   ]
  },
  {
   "cell_type": "code",
   "execution_count": null,
   "id": "85882211",
   "metadata": {},
   "outputs": [],
   "source": [
    "i=1\n",
    "n=2\n",
    "while i<=10:\n",
    "    print(n,\"*\",i,\"=\",n*i)\n",
    "    i=i+1"
   ]
  },
  {
   "cell_type": "code",
   "execution_count": 23,
   "id": "6440a31a",
   "metadata": {},
   "outputs": [
    {
     "name": "stdout",
     "output_type": "stream",
     "text": [
      "2 * 1 = 2\n",
      "2 * 2 = 4\n",
      "2 * 3 = 6\n",
      "2 * 4 = 8\n",
      "2 * 5 = 10\n",
      "2 * 6 = 12\n",
      "2 * 7 = 14\n",
      "2 * 8 = 16\n",
      "2 * 9 = 18\n",
      "2 * 10 = 20\n"
     ]
    }
   ],
   "source": [
    "i=1\n",
    "n=2\n",
    "while i<=10:\n",
    "    print(n,\"*\",i,\"=\",n*i)\n",
    "    i=i+1"
   ]
  },
  {
   "cell_type": "code",
   "execution_count": 22,
   "id": "059c889a",
   "metadata": {},
   "outputs": [
    {
     "name": "stdout",
     "output_type": "stream",
     "text": [
      "hi\n"
     ]
    }
   ],
   "source": [
    "print(\"hi\")"
   ]
  },
  {
   "cell_type": "code",
   "execution_count": 24,
   "id": "ade5626e",
   "metadata": {},
   "outputs": [],
   "source": [
    "#while with list"
   ]
  },
  {
   "cell_type": "code",
   "execution_count": 30,
   "id": "3ec5b6a7",
   "metadata": {},
   "outputs": [],
   "source": [
    "l1=[1,2,3,4,5,6]\n",
    "i=0"
   ]
  },
  {
   "cell_type": "code",
   "execution_count": 31,
   "id": "3d5ab5fb",
   "metadata": {},
   "outputs": [],
   "source": [
    "while i<len(l1):\n",
    "    l1[i]=l1[i]+100\n",
    "    i=i+1"
   ]
  },
  {
   "cell_type": "code",
   "execution_count": 32,
   "id": "f2934d8f",
   "metadata": {},
   "outputs": [
    {
     "data": {
      "text/plain": [
       "[101, 102, 103, 104, 105, 106]"
      ]
     },
     "execution_count": 32,
     "metadata": {},
     "output_type": "execute_result"
    }
   ],
   "source": [
    "l1"
   ]
  },
  {
   "cell_type": "code",
   "execution_count": 33,
   "id": "fd180336",
   "metadata": {},
   "outputs": [
    {
     "name": "stdout",
     "output_type": "stream",
     "text": [
      "mangoes\n",
      "banana\n",
      "grapes\n"
     ]
    }
   ],
   "source": [
    "l1=[\"mangoes\",\"banana\",\"grapes\"]\n",
    "for i in l1:\n",
    "    print(i)"
   ]
  },
  {
   "cell_type": "code",
   "execution_count": 34,
   "id": "01f77800",
   "metadata": {},
   "outputs": [
    {
     "name": "stdout",
     "output_type": "stream",
     "text": [
      "mangoes chair\n",
      "mangoes book\n",
      "mangoes table\n",
      "banana chair\n",
      "banana book\n",
      "banana table\n",
      "grapes chair\n",
      "grapes book\n",
      "grapes table\n"
     ]
    }
   ],
   "source": [
    "l2=[\"chair\",\"book\",\"table\"]\n",
    "for i in l1:\n",
    "    for j in l2:\n",
    "        print(i,j)"
   ]
  },
  {
   "cell_type": "code",
   "execution_count": 39,
   "id": "054f5f5d",
   "metadata": {},
   "outputs": [],
   "source": [
    "#function = block of code performing certain task\n",
    "def hello():\n",
    "    print(\"HELLO JII\")"
   ]
  },
  {
   "cell_type": "code",
   "execution_count": 40,
   "id": "2259ece6",
   "metadata": {},
   "outputs": [
    {
     "name": "stdout",
     "output_type": "stream",
     "text": [
      "HELLO JII\n"
     ]
    }
   ],
   "source": [
    "hello()"
   ]
  },
  {
   "cell_type": "code",
   "execution_count": 41,
   "id": "672a3d15",
   "metadata": {},
   "outputs": [
    {
     "data": {
      "text/plain": [
       "15"
      ]
     },
     "execution_count": 41,
     "metadata": {},
     "output_type": "execute_result"
    }
   ],
   "source": [
    "def add_10(x):\n",
    "    return x+10\n",
    "add_10(5)"
   ]
  },
  {
   "cell_type": "code",
   "execution_count": 42,
   "id": "a61dad72",
   "metadata": {},
   "outputs": [],
   "source": [
    "def odd_even(x):\n",
    "    if x%2==0:\n",
    "        print(x,\"  is even\")\n",
    "    else:\n",
    "        print(x, \"  is odd\")"
   ]
  },
  {
   "cell_type": "code",
   "execution_count": 43,
   "id": "e734fd87",
   "metadata": {},
   "outputs": [
    {
     "name": "stdout",
     "output_type": "stream",
     "text": [
      "24   is even\n"
     ]
    }
   ],
   "source": [
    "odd_even(24)"
   ]
  },
  {
   "cell_type": "markdown",
   "id": "4ae24e3b",
   "metadata": {},
   "source": [
    "# Lambda Function"
   ]
  },
  {
   "cell_type": "code",
   "execution_count": 44,
   "id": "9e7bc211",
   "metadata": {},
   "outputs": [],
   "source": [
    "#lambda is annonymous function"
   ]
  },
  {
   "cell_type": "code",
   "execution_count": 48,
   "id": "8807ea89",
   "metadata": {},
   "outputs": [],
   "source": [
    "g=lambda x:x*x*x\n"
   ]
  },
  {
   "cell_type": "code",
   "execution_count": 49,
   "id": "f40f6407",
   "metadata": {},
   "outputs": [
    {
     "data": {
      "text/plain": [
       "343"
      ]
     },
     "execution_count": 49,
     "metadata": {},
     "output_type": "execute_result"
    }
   ],
   "source": [
    "g(7)"
   ]
  },
  {
   "cell_type": "code",
   "execution_count": 50,
   "id": "43d2703c",
   "metadata": {},
   "outputs": [
    {
     "data": {
      "text/plain": [
       "8"
      ]
     },
     "execution_count": 50,
     "metadata": {},
     "output_type": "execute_result"
    }
   ],
   "source": [
    "g(2)"
   ]
  },
  {
   "cell_type": "code",
   "execution_count": 51,
   "id": "7e6999ec",
   "metadata": {},
   "outputs": [],
   "source": [
    "#labda with filter "
   ]
  },
  {
   "cell_type": "code",
   "execution_count": 52,
   "id": "170a8112",
   "metadata": {},
   "outputs": [],
   "source": [
    "l1=[87,56,90,37,26]\n",
    "final_list=list(filter(lambda x:(x%2!=0),l1))   #filter take 2 parameter"
   ]
  },
  {
   "cell_type": "code",
   "execution_count": 53,
   "id": "d033db46",
   "metadata": {},
   "outputs": [
    {
     "data": {
      "text/plain": [
       "[87, 37]"
      ]
     },
     "execution_count": 53,
     "metadata": {},
     "output_type": "execute_result"
    }
   ],
   "source": [
    "final_list"
   ]
  },
  {
   "cell_type": "code",
   "execution_count": 54,
   "id": "ff31f9b6",
   "metadata": {},
   "outputs": [],
   "source": [
    "#Lambda with Map"
   ]
  },
  {
   "cell_type": "code",
   "execution_count": 55,
   "id": "51f8489e",
   "metadata": {},
   "outputs": [
    {
     "data": {
      "text/plain": [
       "[2, 4, 6, 8, 10, 12, 14, 16, 18]"
      ]
     },
     "execution_count": 55,
     "metadata": {},
     "output_type": "execute_result"
    }
   ],
   "source": [
    "l1=[1,2,3,4,5,6,7,8,9]\n",
    "#multiplying individual by 2\n",
    "list_final_new=list(map(lambda x:x*2,l1))\n",
    "list_final_new"
   ]
  },
  {
   "cell_type": "code",
   "execution_count": 56,
   "id": "5d2e7995",
   "metadata": {},
   "outputs": [
    {
     "data": {
      "text/plain": [
       "45"
      ]
     },
     "execution_count": 56,
     "metadata": {},
     "output_type": "execute_result"
    }
   ],
   "source": [
    "#reduce function is take 2 parameter\n",
    "from functools import reduce \n",
    "sum=reduce (lambda x,y:x+y,l1)\n",
    "sum"
   ]
  },
  {
   "cell_type": "code",
   "execution_count": null,
   "id": "b61016dd",
   "metadata": {},
   "outputs": [],
   "source": []
  }
 ],
 "metadata": {
  "kernelspec": {
   "display_name": "Python 3 (ipykernel)",
   "language": "python",
   "name": "python3"
  },
  "language_info": {
   "codemirror_mode": {
    "name": "ipython",
    "version": 3
   },
   "file_extension": ".py",
   "mimetype": "text/x-python",
   "name": "python",
   "nbconvert_exporter": "python",
   "pygments_lexer": "ipython3",
   "version": "3.11.4"
  }
 },
 "nbformat": 4,
 "nbformat_minor": 5
}
